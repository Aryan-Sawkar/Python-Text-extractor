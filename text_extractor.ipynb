{
 "cells": [
  {
   "cell_type": "code",
   "execution_count": 5,
   "metadata": {},
   "outputs": [
    {
     "name": "stdout",
     "output_type": "stream",
     "text": [
      "Requirement already satisfied: pytesseract in c:\\users\\aryan sawkar\\anaconda3\\lib\\site-packages (0.3.6)\n",
      "Requirement already satisfied: Pillow in c:\\users\\aryan sawkar\\anaconda3\\lib\\site-packages (from pytesseract) (7.2.0)\n"
     ]
    }
   ],
   "source": [
    "!pip install pytesseract"
   ]
  },
  {
   "cell_type": "code",
   "execution_count": 6,
   "metadata": {},
   "outputs": [],
   "source": [
    "import pytesseract\n",
    "import os\n",
    "from PIL import Image"
   ]
  },
  {
   "cell_type": "code",
   "execution_count": 14,
   "metadata": {},
   "outputs": [
    {
     "name": "stdout",
     "output_type": "stream",
     "text": [
      "O} Write a Program to illustrate the FCFS scheduling algorithm.\n",
      "import java.util.\n",
      "Class FCFS {\n",
      "Public static void main(String[} args) {\n",
      "\n",
      "int total=0; float avg;\n",
      "\n",
      "Scanner sn = new Scanner(System.in);\n",
      "\n",
      "System.out.print(\"\\nEnter the number of processes :\");\n",
      "\n",
      "int n= sn.nextint(),\n",
      "\n",
      "id{]=new int{n), //process ID will be saved here\n",
      "\n",
      "btime[]=new int{n], _//process burst times will be here\n",
      "\n",
      "ir lew int[n}; — //process waiting times will be here\n",
      "\n",
      "njit+){ — //enter all the process times and IDs\n",
      "System.gut.print(\"\\nEnter the process ID of process \"#{i+1)+\"\n",
      "System.out.print(\"Enter the burst time of process \"+(i#1)+\"\n",
      "\n",
      " \n",
      "\n",
      " \n",
      "\n",
      " \n",
      "\n",
      " \n",
      "\n",
      " \n",
      " \n",
      "\n",
      "\");btime[i]=sa.nextint();\n",
      "\n",
      " \n",
      "\n",
      "i++) {  //ealculate the waiting times for all processes\n",
      "wtime|i-1]+btime[i-\n",
      "totalstotal+wtimeli];\n",
      "\n",
      "  \n",
      "\n",
      "}\n",
      "avg=(float)total/n; //calculate the average waiting times\n",
      "System.out.printIn(\"\\nProcess ID\\tBurst Time\\tWait Time\\tTurn Around Time\");\n",
      "\n",
      " \n",
      "\n",
      "itt)\n",
      "System.out.printin(id[i]+\"\\t\\t\"+btimeli}+\"\\t\\t\"+wtimeli#\"\\e\\t\"+ (wtimeli}+btimeli)));\n",
      "System.out. printin(\"\\nTotal wait time: \"stotal+\"\\nAverage wait time: \"+ave);\n",
      "\n",
      "for(int\n",
      "\n",
      " \n",
      "\n",
      " \n",
      "\f",
      "\n"
     ]
    }
   ],
   "source": [
    "img=Image.open(\"1.1.jpg\")\n",
    "pytesseract.pytesseract.tesseract_cmd = r'C:\\Program Files\\Tesseract-OCR\\tesseract.exe'\n",
    "text=pytesseract.image_to_string(img)\n",
    "print(text)"
   ]
  },
  {
   "cell_type": "code",
   "execution_count": null,
   "metadata": {},
   "outputs": [],
   "source": []
  }
 ],
 "metadata": {
  "kernelspec": {
   "display_name": "Python 3",
   "language": "python",
   "name": "python3"
  },
  "language_info": {
   "codemirror_mode": {
    "name": "ipython",
    "version": 3
   },
   "file_extension": ".py",
   "mimetype": "text/x-python",
   "name": "python",
   "nbconvert_exporter": "python",
   "pygments_lexer": "ipython3",
   "version": "3.8.3"
  }
 },
 "nbformat": 4,
 "nbformat_minor": 4
}
